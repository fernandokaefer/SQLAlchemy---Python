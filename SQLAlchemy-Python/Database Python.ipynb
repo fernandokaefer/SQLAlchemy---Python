{
 "cells": [
  {
   "cell_type": "code",
   "execution_count": 1,
   "id": "72ab0c22",
   "metadata": {},
   "outputs": [],
   "source": [
    "# Importando as bibliotecas.\n",
    "from sqlalchemy import create_engine, Column, Integer, String, Boolean, ForeignKey\n",
    "from sqlalchemy.orm import sessionmaker, declarative_base"
   ]
  },
  {
   "cell_type": "code",
   "execution_count": 2,
   "id": "9987520c",
   "metadata": {},
   "outputs": [],
   "source": [
    "db = create_engine(\"sqlite:///meubanco.db\")\n",
    "Session = sessionmaker(bind=db)\n",
    "session = Session()"
   ]
  },
  {
   "cell_type": "code",
   "execution_count": 3,
   "id": "41f9a06e",
   "metadata": {},
   "outputs": [],
   "source": [
    "Base = declarative_base()"
   ]
  },
  {
   "cell_type": "code",
   "execution_count": 4,
   "id": "b76f1865",
   "metadata": {},
   "outputs": [],
   "source": [
    "# Criando a tabela de usuários.\n",
    "class Usuario(Base):\n",
    "    __tablename__ = \"usuarios\"\n",
    "    \n",
    "    id = Column(\"id\", Integer, primary_key=True, autoincrement=True)\n",
    "    nome = Column(\"nome\", String)\n",
    "    email = Column(\"email\", String)\n",
    "    senha = Column(\"senha\", String)\n",
    "    ativo = Column(\"ativo\", Boolean)\n",
    "    \n",
    "    def __init__(self, nome, email, senha, ativo=True):\n",
    "        self.nome = nome\n",
    "        self.email = email\n",
    "        self.senha = senha\n",
    "        self.ativo = ativo"
   ]
  },
  {
   "cell_type": "code",
   "execution_count": 5,
   "id": "990c8682",
   "metadata": {},
   "outputs": [],
   "source": [
    "# Criando a tabela de livros\n",
    "class Livro(Base):\n",
    "    __tablename__ = \"livros\"\n",
    "    \n",
    "    id = Column(\"id\", Integer, primary_key=True, autoincrement=True)\n",
    "    titulo = Column(\"titulo\", String)\n",
    "    qtde_paginas = Column(\"qtde_paginas\", Integer)\n",
    "    dono = Column(\"dono\", ForeignKey(\"usuarios.id\"))\n",
    "    \n",
    "    def __init__(self, titulo, qtde_paginas, dono):\n",
    "        self.titulo = titulo\n",
    "        self.qtde_paginas = qtde_paginas\n",
    "        self.dono = dono"
   ]
  },
  {
   "cell_type": "code",
   "execution_count": 6,
   "id": "3cd796a5",
   "metadata": {},
   "outputs": [],
   "source": [
    "Base.metadata.create_all(bind=db)"
   ]
  },
  {
   "cell_type": "code",
   "execution_count": 7,
   "id": "cbe15432",
   "metadata": {},
   "outputs": [],
   "source": [
    "# Operação CRUD (Create):\n",
    "usuario = Usuario(nome=\"Fernando\", email=\"fernando@gmail.com\", senha=\"123456\")\n",
    "session.add(usuario)\n",
    "session.commit()"
   ]
  },
  {
   "cell_type": "code",
   "execution_count": 8,
   "id": "bc3decac",
   "metadata": {},
   "outputs": [],
   "source": [
    "# Operação CRUD (Read):\n",
    "usuario_fernando = session.query(Usuario).filter_by(nome=\"Fernando\").first()"
   ]
  },
  {
   "cell_type": "code",
   "execution_count": 9,
   "id": "e8dc4df8",
   "metadata": {},
   "outputs": [],
   "source": [
    "# Operação CRUD (Create):\n",
    "livro = Livro(titulo=\"Hábitos Atômicos\", qtde_paginas=320, dono=usuario_fernando.id)\n",
    "session.add(livro)\n",
    "session.commit()"
   ]
  },
  {
   "cell_type": "code",
   "execution_count": 10,
   "id": "005b3128",
   "metadata": {},
   "outputs": [],
   "source": [
    "# Operação CRUD (Update):\n",
    "usuario_fernando.nome = \"Fernando Kaefer\"\n",
    "session.add(usuario_fernando)\n",
    "session.commit()"
   ]
  },
  {
   "cell_type": "code",
   "execution_count": 11,
   "id": "d6600590",
   "metadata": {},
   "outputs": [],
   "source": [
    "# Operação CRUD (Delete):\n",
    "session.delete(usuario_fernando)\n",
    "session.commit()"
   ]
  }
 ],
 "metadata": {
  "kernelspec": {
   "display_name": "Python 3 (ipykernel)",
   "language": "python",
   "name": "python3"
  },
  "language_info": {
   "codemirror_mode": {
    "name": "ipython",
    "version": 3
   },
   "file_extension": ".py",
   "mimetype": "text/x-python",
   "name": "python",
   "nbconvert_exporter": "python",
   "pygments_lexer": "ipython3",
   "version": "3.9.13"
  }
 },
 "nbformat": 4,
 "nbformat_minor": 5
}
